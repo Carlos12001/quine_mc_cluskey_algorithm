{
 "cells": [
  {
   "cell_type": "markdown",
   "source": [
    "# Hola bienvenido al Algoritmo Quine McCluskey Jupyter Edition\n",
    "\n",
    "En este cuaderno de Jupyter encontrarás una forma de programar y entender\n",
    "como funciona el algoritmo. Este algoritmo se divide en un total de 7 pasos.\n",
    "\n",
    "Por lo que cada sección del cuaderno explicara como se realiza dicho paso,\n",
    "además de mostrar como es el código correspondiente a dicho paso.\n",
    "\n",
    "Finalmente, cuando se obtenga el algoritmo funcional se programara una CLI\n",
    "para obtener los min-términos y la cantidad de variables de la función booleana\n",
    "que se desea simplificar.\n",
    "\n",
    "Este cuaderno también cuenta con un apartado para calcular el tiempo que\n",
    "tarda dicho algoritmo en ejecutarse."
   ],
   "metadata": {
    "collapsed": false,
    "pycharm": {
     "name": "#%% md\n"
    }
   }
  },
  {
   "cell_type": "markdown",
   "source": [
    "# Algoritmo de Quine McCluskey\n",
    "\n",
    "## ¿Qué es?\n",
    "\n",
    "Explicación ...\n",
    "\n",
    "\n",
    "## Términos generales\n",
    "\n",
    "1. **Complemento**: variables con una barra sobre ellos.\n",
    "Ej. : **A'** es complemento de **A**.\n",
    "2. **Literal**: Variable o su componente.\n",
    "Ej. : **A**, **B'**, ...\n",
    "3. **Implicante**: producto de literales.\n",
    "Ej. : **ABC**, **AC**, ...\n",
    "4. **Min-término**: producto que incluye todas las variables de entrada.\n",
    "Ej. : **AB'C'D**\n",
    "\n",
    "## ¿Cómo funciona?\n",
    "\n",
    "Como se comentó anteriormente el algoritmo cuenta con un total de 7 pasos.\n",
    "Se espera recibir como entrada la suma de min-términos y la cantidad de\n",
    "variables que tiene dicha función booleana.\n",
    "\n",
    "```\n",
    "   Número de variables: 4\n",
    "   Suma de min-términos: 1, 4, 6, 15\n",
    "```"
   ],
   "metadata": {
    "collapsed": false,
    "pycharm": {
     "name": "#%% md\n"
    }
   }
  },
  {
   "cell_type": "markdown",
   "source": [
    "### Paso 1 del algoritmo de Mc Cluskey\n",
    "\n",
    "Convertir cada min-término de la función booleana por su equivalente en\n",
    "representación binaria.\n",
    "\n",
    "Para ello procederemos crear dos variable gloabales que se utilizarán a lo\n",
    "largo del programa."
   ],
   "metadata": {
    "collapsed": false,
    "pycharm": {
     "name": "#%% md\n"
    }
   }
  },
  {
   "cell_type": "code",
   "execution_count": 66,
   "outputs": [],
   "source": [
    "num_var = 0\n",
    "no_importa = \"\""
   ],
   "metadata": {
    "collapsed": false,
    "pycharm": {
     "name": "#%%\n"
    }
   }
  },
  {
   "cell_type": "markdown",
   "source": [
    "La variable `num_var` representa al numero de var a la cantidad de min-términos\n",
    "de la función booleana. La `no_importa` representa la cantidad máxima que puede\n",
    "tener un número binario de no me importa."
   ],
   "metadata": {
    "collapsed": false,
    "pycharm": {
     "name": "#%% md\n"
    }
   }
  },
  {
   "cell_type": "code",
   "execution_count": 67,
   "outputs": [
    {
     "name": "stdout",
     "output_type": "stream",
     "text": [
      "<class 'str'> 00001010\n"
     ]
    }
   ],
   "source": [
    "x = format(10, \"08b\")\n",
    "print(type(x), x)"
   ],
   "metadata": {
    "collapsed": false,
    "pycharm": {
     "name": "#%%\n"
    }
   }
  }
 ],
 "metadata": {
  "kernelspec": {
   "display_name": "Python 3 (ipykernel)",
   "language": "python",
   "name": "python3"
  },
  "language_info": {
   "codemirror_mode": {
    "name": "ipython",
    "version": 3
   },
   "file_extension": ".py",
   "mimetype": "text/x-python",
   "name": "python",
   "nbconvert_exporter": "python",
   "pygments_lexer": "ipython3",
   "version": "3.10.6"
  }
 },
 "nbformat": 4,
 "nbformat_minor": 5
}