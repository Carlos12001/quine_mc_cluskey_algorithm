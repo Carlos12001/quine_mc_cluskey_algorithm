{
 "cells": [
  {
   "cell_type": "markdown",
   "id": "158a8fac",
   "metadata": {
    "pycharm": {
     "name": "#%% md\n"
    }
   },
   "source": [
    "# Hola bienvenido al Algoritmo Quine McCluskey Jupyter Edition\n",
    "\n",
    "En este cuaderno de Jupyter encontrarás una forma de programar y entender\n",
    "como funciona el algoritmo. Este algoritmo se divide en un total de 7 pasos.\n",
    "\n",
    "Por lo que cada sección del cuaderno explicara como se realiza dicho paso,\n",
    "además de mostrar como es el código correspondiente a dicho paso.\n",
    "\n",
    "Finalmente, cuando se obtenga el algoritmo funcional se programara una CLI\n",
    "para obtener los min-términos y la cantidad de variables de la función booleana\n",
    "que se desea simplificar.\n",
    "\n",
    "Este cuaderno también cuenta con un apartado para calcular el tiempo que\n",
    "tarda dicho algoritmo en ejecutarse."
   ]
  },
  {
   "cell_type": "markdown",
   "id": "1b9d15d0",
   "metadata": {
    "pycharm": {
     "name": "#%% md\n"
    }
   },
   "source": [
    "# Algoritmo de Quine McCluskey\n",
    "\n",
    "## ¿Qué es?\n",
    "\n",
    "Explicación ...\n",
    "\n",
    "\n",
    "## Términos generales\n",
    "\n",
    "1. **Complemento**: variables con una barra sobre ellos.\n",
    "Ej. : **A'** es complemento de **A**.\n",
    "2. **Literal**: Variable o su componente.\n",
    "Ej. : **A**, **B'**, ...\n",
    "3. **Implicante**: producto de literales.\n",
    "Ej. : **ABC**, **AC**, ...\n",
    "4. **Min-término**: producto que incluye todas las variables de entrada.\n",
    "Ej. : **AB'C'D**\n",
    "\n",
    "## ¿Cómo funciona?\n",
    "\n",
    "Como se comentó anteriormente el algoritmo cuenta con un total de 7 pasos.\n",
    "Se espera recibir como entrada la suma de min-términos y la cantidad de\n",
    "variables que tiene dicha función booleana.\n",
    "\n",
    "```\n",
    "   Número de variables: 4\n",
    "   Suma de min-términos: 1, 4, 6, 15\n",
    "```"
   ]
  },
  {
   "cell_type": "markdown",
   "id": "f6b6581b",
   "metadata": {
    "pycharm": {
     "name": "#%% md\n"
    }
   },
   "source": [
    "### Paso 1\n",
    "\n",
    "Convertir cada min-término de la función booleana por su equivalente en\n",
    "representación binaria.\n"
   ]
  },
  {
   "cell_type": "code",
   "execution_count": 144,
   "id": "ffad4af5",
   "metadata": {
    "pycharm": {
     "name": "#%%\n"
    }
   },
   "outputs": [],
   "source": [
    "# Cantidad de literales de la funcion booleana\n",
    "num_var = 0"
   ]
  },
  {
   "cell_type": "markdown",
   "id": "0f49a69e",
   "metadata": {
    "pycharm": {
     "name": "#%% md\n"
    }
   },
   "source": [
    "La variable `num_var` es una variable global que representa al numero de var\n",
    "a la cantidad de literales de la función booleana."
   ]
  },
  {
   "cell_type": "code",
   "execution_count": 145,
   "id": "11c010ec",
   "metadata": {
    "pycharm": {
     "name": "#%%\n"
    }
   },
   "outputs": [],
   "source": [
    "# Funcion que pasa un numero entero a bin\n",
    "def entero_a_bin(num_entero):\n",
    "    global num_var\n",
    "    return format(num_entero, \"0\" + str(num_var) + \"b\")"
   ]
  },
  {
   "cell_type": "markdown",
   "id": "2b1617f8",
   "metadata": {
    "pycharm": {
     "name": "#%% md\n"
    }
   },
   "source": [
    "La funcion `formart()` se encarga de recibir el numero entero `num_entero`, y el\n",
    "segundo parametro se encarga de darle la forma de binario con el relleno\n",
    "necesario de 0's con el fin que todo mintermino tenga la misma longuitud.\n",
    "\n",
    "Ejemplo:\n",
    "\n",
    "```\n",
    "   2  en binario de 8 bits: 00000010\n",
    "```"
   ]
  },
  {
   "cell_type": "code",
   "execution_count": 146,
   "outputs": [],
   "source": [
    "# Funcion que transforma una lista entera a binaria\n",
    "def lista_entero_a_bin(lista_entera):\n",
    "    lista_binaria = []\n",
    "    for i in lista_entera:\n",
    "        lista_binaria += [entero_a_bin(i)]\n",
    "    return lista_binaria"
   ],
   "metadata": {
    "collapsed": false,
    "pycharm": {
     "name": "#%%\n"
    }
   }
  },
  {
   "cell_type": "markdown",
   "source": [
    " Funcion es la encargada pasar una lista entera a una binaria.\n",
    " Esto sera de gran utilidad para pasar la suma min-términos a una boolena."
   ],
   "metadata": {
    "collapsed": false,
    "pycharm": {
     "name": "#%% md\n"
    }
   }
  },
  {
   "cell_type": "code",
   "execution_count": 147,
   "outputs": [],
   "source": [
    "# Funcion que transforma una lista binaria a entera\n",
    "def lista_bin_a_entera(lista_binaria):\n",
    "    lista_entera = []\n",
    "    for i in lista_binaria:\n",
    "        lista_entera += [int(i, 2)]\n",
    "    return lista_entera\n"
   ],
   "metadata": {
    "collapsed": false,
    "pycharm": {
     "name": "#%%\n"
    }
   }
  },
  {
   "cell_type": "markdown",
   "source": [
    "Es funcion realiza el efecto contrario pasa una lista binaria a una entera.\n",
    "Esta funcion es gran de utilidad para realizar pruebas por eso se programa."
   ],
   "metadata": {
    "collapsed": false,
    "pycharm": {
     "name": "#%% md\n"
    }
   }
  },
  {
   "cell_type": "markdown",
   "source": [
    "### Paso 2\n",
    "\n",
    "Agrupar mintérminos por la cantidad de 1s en la representación binaria.\n",
    "Ej: 1010 tiene dos unos y se puede agrupar con 1100 y 0110. Si se está\n",
    "trabajando por con 4 literales, se van a encontrar\n",
    "máximo 5 grupos: 0 unos, 1 uno, 2 unos, 3 unos y 4 unos. Los grupos encontrados\n",
    "se ordenan en una tabla."
   ],
   "metadata": {
    "collapsed": false,
    "pycharm": {
     "name": "#%% md\n"
    }
   }
  },
  {
   "cell_type": "code",
   "execution_count": 148,
   "outputs": [],
   "source": [
    "# Agrupa los minterminos por cantidad de 1's\n",
    "def ordena_lista_por_1s(lista_minterminos):\n",
    "    lista_minterminos.sort(key=lambda num: (num.count(\"1\"), num))\n",
    "    return lista_minterminos"
   ],
   "metadata": {
    "collapsed": false,
    "pycharm": {
     "name": "#%%\n"
    }
   }
  },
  {
   "cell_type": "markdown",
   "source": [
    "Esta funcion utiliza la funccion `sort()` de Python 3, note lo que realiza\n",
    "el ordenamiento de la cantidad de 1's. Esto lo hace recibiendo una lista de tuplas con\n",
    "la informacion `(cantida-de-1's, numero-binario)`. Para generar dicha tupla la\n",
    "función necesita una forma generar dicha tupla. Por el parámetro llamado\n",
    "`sort(key=)`. Con dicha tupla el\n",
    "algorimto `sort()` es capaz de ordenar la lista de minterminos.\n",
    "\n",
    "Para entender se genera la tupla que genera el lamba ver el siguiente ejemplo."
   ],
   "metadata": {
    "collapsed": false,
    "pycharm": {
     "name": "#%% md\n"
    }
   }
  },
  {
   "cell_type": "code",
   "execution_count": 149,
   "outputs": [
    {
     "name": "stdout",
     "output_type": "stream",
     "text": [
      "(2, '1001')\n"
     ]
    }
   ],
   "source": [
    "x = lambda a: (a.count(\"1\"), a)\n",
    "print(x(\"1001\"))"
   ],
   "metadata": {
    "collapsed": false,
    "pycharm": {
     "name": "#%%\n"
    }
   }
  },
  {
   "cell_type": "markdown",
   "source": [
    "### Paso 3\n",
    "\n",
    "Comparar cada número del mintérmino en el grupo superior con canda mintérmino\n",
    "del grupo inferior. Si entre dos números, cada posición es igual menos **solo un\n",
    "dígito**, se anota un número nuevo en otra tabla con la misma representación\n",
    "binaria pero con una x en el dígito que difieren. Asimismo, se le coloca de\n",
    "categoría la composición de los mintérminos que crean el nuevo elemento.\n",
    "En caso que un mintérmino no se puede emparejar con ningún otro de la tabla,\n",
    "este se retira y se marca como **implicante primo**."
   ],
   "metadata": {
    "collapsed": false,
    "pycharm": {
     "name": "#%% md\n"
    }
   }
  },
  {
   "cell_type": "code",
   "execution_count": 150,
   "outputs": [],
   "source": [
    "# Funcion que comprueba si solo se diferencia un bit\n",
    "def se_diferencia_un_digito(num_bin_1, num_bin_2):\n",
    "    contador = 0\n",
    "    for i in range(len(num_bin_1)):\n",
    "        if num_bin_1[i] != num_bin_2[i]:\n",
    "            contador += 1\n",
    "    return contador == 1"
   ],
   "metadata": {
    "collapsed": false,
    "pycharm": {
     "name": "#%%\n"
    }
   }
  },
  {
   "cell_type": "markdown",
   "source": [
    "### Paso 4\n",
    "\n",
    "Con la nueva tabla elaborada por el emparejamiento de implicantes anterior, se\n",
    "agrupan cada implicante compuesto por la cantidad de 1s que lo comprenden y se\n",
    "vuelve a emparejar elementos como en el paso 3. Considere las x como un dígito\n",
    "más. Si se repiten implicantes primos, preserve uno. En caso de no poderse\n",
    "simplificar más elementos, se seleccionan los implicantes primos encontrados."
   ],
   "metadata": {
    "collapsed": false,
    "pycharm": {
     "name": "#%% md\n"
    }
   }
  },
  {
   "cell_type": "code",
   "execution_count": 151,
   "outputs": [],
   "source": [
    "\n",
    "# Funcion que se encarga de remplzar el bit complementario\n",
    "def remplaza_complementos(num_bin_1, num_bin_2):\n",
    "    resultado = \"\"\n",
    "\n",
    "    for i in range(len(num_bin_1)):\n",
    "        if num_bin_1[i] != num_bin_2[i]:\n",
    "            resultado = resultado + \"-\"\n",
    "        else:\n",
    "            resultado = resultado + num_bin_1[i]\n",
    "\n",
    "    return resultado\n"
   ],
   "metadata": {
    "collapsed": false,
    "pycharm": {
     "name": "#%%\n"
    }
   }
  },
  {
   "cell_type": "markdown",
   "source": [
    "Esta funcion recibe 2 números binarios, y remplaza los bits complentarios por\n",
    "un ``-``. El resultado es el nuevo bit con el **no me importa**."
   ],
   "metadata": {
    "collapsed": false,
    "pycharm": {
     "name": "#%% md\n"
    }
   }
  },
  {
   "cell_type": "markdown",
   "source": [
    "### Paso 5\n",
    "\n",
    "Encontrar los implicantes primos esenciales. Para encontrarlo se elabora la\n",
    "tabla de implicantes primos donde cada implicante primo encontrado se coloca en\n",
    "una fila y los mintérminos que lo componen se marcan como columnas"
   ],
   "metadata": {
    "collapsed": false,
    "pycharm": {
     "name": "#%% md\n"
    }
   }
  },
  {
   "cell_type": "markdown",
   "source": [
    "El código se muestra más adelante ya que el necesita parte del 6 para ejecutarse bien."
   ],
   "metadata": {
    "collapsed": false,
    "pycharm": {
     "name": "#%% md\n"
    }
   }
  },
  {
   "cell_type": "markdown",
   "source": [
    "### Paso 6\n",
    "\n",
    "De acuerdo a la tabla, si un mintérmino solo es cubierto por un solo implicante primo, este\n",
    "es un implicante esencial. En caso contrario, si cada mintérmino de un\n",
    "implicante primo puede ser cubierto por los demás, este se retira de la tabla."
   ],
   "metadata": {
    "collapsed": false,
    "pycharm": {
     "name": "#%% md\n"
    }
   }
  },
  {
   "cell_type": "code",
   "execution_count": 152,
   "outputs": [],
   "source": [
    "# Funcion revisa si ya este numero binario exite dentro los minterminos\n",
    "def dentro_de_la_lista(lista_minterinos, num_bin):\n",
    "    for i in lista_minterinos:\n",
    "        if i == num_bin:\n",
    "            return True\n",
    "    return False"
   ],
   "metadata": {
    "collapsed": false,
    "pycharm": {
     "name": "#%%\n"
    }
   }
  },
  {
   "cell_type": "markdown",
   "source": [],
   "metadata": {
    "collapsed": false,
    "pycharm": {
     "name": "#%% md\n"
    }
   }
  },
  {
   "cell_type": "code",
   "execution_count": 153,
   "outputs": [],
   "source": [
    " # Simplifica la lista de minterminos\n",
    "def reduce(lista_minterminos):\n",
    "    nuevos_minterminos = []  # Lista de minterminos reducida\n",
    "    n = len(lista_minterminos)  # Largo de la lista\n",
    "    \"\"\"\n",
    "    Lista incia 0's de n elementos ya que ningún mintermino ha cambiado\n",
    "    ha hecho paraja con otro mintérmino. Cuando lo encuentre pasa a ser 1.\n",
    "    \"\"\"\n",
    "    cual_mintermino_cambio = [0] * n\n",
    "\n",
    "    # Paso 5\n",
    "    for i in range(n):\n",
    "        for j in range(n):\n",
    "            if se_diferencia_un_digito(lista_minterminos[i],\n",
    "                                       lista_minterminos[j]):\n",
    "                cual_mintermino_cambio[i] = 1\n",
    "                cual_mintermino_cambio[j] = 1\n",
    "                nuevo_num_bin = remplaza_complementos(lista_minterminos[i],\n",
    "                                                      lista_minterminos[j])\n",
    "                # Paso 6\n",
    "                if not dentro_de_la_lista(nuevos_minterminos, nuevo_num_bin):\n",
    "                    nuevos_minterminos.append(nuevo_num_bin)\n",
    "\n",
    "    # Se agrega todos los terminos reducidos a la lista\n",
    "    for i in range(n):\n",
    "        # Paso 6\n",
    "        if (cual_mintermino_cambio[i] != 1 and (\n",
    "                not dentro_de_la_lista(nuevos_minterminos,\n",
    "                                       lista_minterminos[i]))):\n",
    "            nuevos_minterminos.append(lista_minterminos[i])\n",
    "\n",
    "    # Finaliza el Paso 5\n",
    "    return nuevos_minterminos"
   ],
   "metadata": {
    "collapsed": false,
    "pycharm": {
     "name": "#%%\n"
    }
   }
  },
  {
   "cell_type": "markdown",
   "source": [
    "### Paso 7\n",
    "\n",
    "Los implicantes primos esenciales corresponden a la ecuación booleana reducida."
   ],
   "metadata": {
    "collapsed": false,
    "pycharm": {
     "name": "#%% md\n"
    }
   }
  },
  {
   "cell_type": "code",
   "execution_count": 154,
   "outputs": [],
   "source": [
    " # Algoritmo de Quine McCluskey\n",
    " def quine_mc_cluskey(num_literales, minterminos):\n",
    "    global num_var\n",
    "\n",
    "    num_var = num_literales\n",
    "    lista_minterminos = []\n",
    "\n",
    "    lista_minterminos = lista_entero_a_bin(minterminos)\n",
    "    lista_minterminos = ordena_lista_por_1s(lista_minterminos)\n",
    "\n",
    "    # Se repite el Paso 5 hasta que se encuentre todos los primos esenciales\n",
    "    while True:\n",
    "        lista_minterminos = reduce(lista_minterminos)\n",
    "        ordena_lista_por_1s(lista_minterminos)\n",
    "        if lista_minterminos == reduce(lista_minterminos):\n",
    "            break\n",
    "\n",
    "    # Paso 7\n",
    "    return lista_minterminos\n"
   ],
   "metadata": {
    "collapsed": false,
    "pycharm": {
     "name": "#%%\n"
    }
   }
  },
  {
   "cell_type": "markdown",
   "source": [
    "# Salida del programa\n",
    "\n",
    "Se programa una salida vistoza con del programa fin que el usuario pueda visualizar\n",
    "el resultado de forma sencilla. En otras palabras se realiza una funcion que\n",
    "toma el resultado de minterminos del algoritmo y lo transforma en su representación\n",
    "booelana funcional."
   ],
   "metadata": {
    "collapsed": false,
    "pycharm": {
     "name": "#%% md\n"
    }
   }
  },
  {
   "cell_type": "code",
   "execution_count": 155,
   "outputs": [],
   "source": [
    "# Muestra el implicante en su representacion booleana\n",
    "def obtenga_implicante(minterminos):\n",
    "    global num_var\n",
    "    resultado = \"\"\n",
    "    variables = [\"a\", \"b\", \"c\", \"d\", \"e\", \"f\", \"g\", \"h\"]\n",
    "    no_importa = \"-\" * num_var\n",
    "\n",
    "    if minterminos == no_importa:\n",
    "        return \"1\"\n",
    "    else:\n",
    "        for i in range(len(minterminos)):\n",
    "            if minterminos[i] != \"-\":\n",
    "                if minterminos[i] == \"0\":\n",
    "                    resultado = resultado + variables[i] + \"\\'\"\n",
    "                else:\n",
    "                    resultado = resultado + variables[i]\n",
    "\n",
    "        return resultado"
   ],
   "metadata": {
    "collapsed": false,
    "pycharm": {
     "name": "#%%\n"
    }
   }
  },
  {
   "cell_type": "markdown",
   "source": [
    "Esta funcion simplemente crea el implicante del min-término correspodiente."
   ],
   "metadata": {
    "collapsed": false,
    "pycharm": {
     "name": "#%% md\n"
    }
   }
  },
  {
   "cell_type": "code",
   "execution_count": 156,
   "outputs": [],
   "source": [
    "# Realiza la representacion booelana funcional de la suma de minterminos\n",
    "def obtenga_funcion(lista_minterminos):\n",
    "    resultado = \"\"\n",
    "    for i in lista_minterminos[:len(lista_minterminos) - 1]:\n",
    "        resultado += obtenga_implicante(i) + \" + \"\n",
    "    resultado += obtenga_implicante(lista_minterminos[-1])\n",
    "    return resultado"
   ],
   "metadata": {
    "collapsed": false,
    "pycharm": {
     "name": "#%%\n"
    }
   }
  },
  {
   "cell_type": "markdown",
   "source": [
    "Realiza la suma de los implicantes."
   ],
   "metadata": {
    "collapsed": false,
    "pycharm": {
     "name": "#%% md\n"
    }
   }
  },
  {
   "cell_type": "markdown",
   "source": [
    "# Testing\n",
    "\n",
    "Este apartado se encarga de probar las funciones individualmente. Con el fin de\n",
    "comprobar el funcionamiento de las funciones."
   ],
   "metadata": {
    "collapsed": false,
    "pycharm": {
     "name": "#%% md\n"
    }
   }
  },
  {
   "cell_type": "code",
   "execution_count": 157,
   "outputs": [
    {
     "name": "stdout",
     "output_type": "stream",
     "text": [
      "Prueba paso 1\n",
      "[12, 1, 15, 7, 6]\n",
      "['1100', '0001', '1111', '0111', '0110'] \n",
      "\n",
      "\n",
      "Prueba paso 2\n",
      "['0001', '0110', '1100', '0111', '1111']\n",
      "[1, 6, 12, 7, 15] \n",
      "\n",
      "\n",
      "Prueba paso 3\n",
      "Se diferencia por un solo digito 1000 1010\n",
      "True\n",
      "Se diferencia por un solo digito 0000 1010\n",
      "False \n",
      "\n",
      "\n",
      "Prueba paso 4\n",
      "Remplaza los bits complementarios de 1000 1010\n",
      "10-0\n",
      "Remplaza los bits complementarios de 1010 1010\n",
      "1010 \n",
      "\n",
      "\n",
      "Prueba paso 6\n",
      "Revisa si dicho número binario existe dentro la lista de minterminos [1010,0000,1000,0001] 1010\n",
      "True\n",
      "Revisa si dicho número binario existe dentro la lista de minterminos [1010,0000,1000,0001] 0010\n",
      "False \n",
      "\n",
      "\n",
      "Prueba de  Quine McCluskey\n",
      "Entrada: 4 [1, 4, 6, 15]\n",
      "Resultado: ['0001', '01-0', '1111']\n",
      "Representacion funcional booleana\n",
      "a'b'c'd + a'bd' + abcd\n"
     ]
    }
   ],
   "source": [
    "def prueba():\n",
    "    global num_var\n",
    "    num_var = 4\n",
    "    lista = [12, 1, 15, 7, 6]\n",
    "\n",
    "    # Paso 1\n",
    "    print(\"Prueba paso 1\")\n",
    "    print(lista)\n",
    "    lista = lista_entero_a_bin(lista)\n",
    "    print(lista,\"\\n\\n\")\n",
    "\n",
    "    # Paso 2\n",
    "    print(\"Prueba paso 2\")\n",
    "    lista = ordena_lista_por_1s(lista)\n",
    "    print(lista)\n",
    "    print(lista_bin_a_entera(lista),\"\\n\\n\")\n",
    "\n",
    "    # Paso 3\n",
    "    print(\"Prueba paso 3\")\n",
    "    print(\"Se diferencia por un solo digito\", \"1000\",\"1010\")\n",
    "    print(se_diferencia_un_digito(\"1000\",\"1010\"))\n",
    "    print(\"Se diferencia por un solo digito\", \"0000\", \"1010\")\n",
    "    print(se_diferencia_un_digito(\"0000\", \"1010\"), \"\\n\\n\")\n",
    "\n",
    "    # Paso 4\n",
    "    print(\"Prueba paso 4\")\n",
    "    print(\"Remplaza los bits complementarios de\", \"1000\", \"1010\")\n",
    "    print(remplaza_complementos(\"1000\", \"1010\"))\n",
    "    print(\"Remplaza los bits complementarios de\", \"1010\", \"1010\")\n",
    "    print(remplaza_complementos(\"1010\", \"1010\"), \"\\n\\n\")\n",
    "\n",
    "    # Paso 6\n",
    "    print(\"Prueba paso 6\")\n",
    "    print(\n",
    "        \"Revisa si dicho número binario existe dentro la lista de minterminos\",\n",
    "        \"[1010,0000,1000,0001]\", \"1010\")\n",
    "    print(dentro_de_la_lista([\"1010\", \"00-0\", \"1000\", \"0001\"], \"1010\"))\n",
    "    print(\n",
    "        \"Revisa si dicho número binario existe dentro la lista de minterminos\",\n",
    "        \"[1010,0000,1000,0001]\", \"0010\")\n",
    "    print(dentro_de_la_lista([\"1010\", \"0000\", \"1000\", \"0001\"], \"0010\"), \"\\n\\n\")\n",
    "\n",
    "\n",
    "    # Prueba Quine McCluskey\n",
    "    print(\"Prueba de  Quine McCluskey\")\n",
    "    print(\"Entrada:\", 4, [1, 4, 6, 15])\n",
    "    lista_minterminos = quine_mc_cluskey(4, [1, 4, 6, 15])\n",
    "    print(\"Resultado:\", lista_minterminos)\n",
    "    # Imprime el resultado en forma funcion booleana\n",
    "    print(\"Representacion funcional booleana\")\n",
    "    print(obtenga_funcion(lista_minterminos))\n",
    "\n",
    "prueba()"
   ],
   "metadata": {
    "collapsed": false,
    "pycharm": {
     "name": "#%%\n"
    }
   }
  }
 ],
 "metadata": {
  "kernelspec": {
   "display_name": "Python 3 (ipykernel)",
   "language": "python",
   "name": "python3"
  },
  "language_info": {
   "codemirror_mode": {
    "name": "ipython",
    "version": 3
   },
   "file_extension": ".py",
   "mimetype": "text/x-python",
   "name": "python",
   "nbconvert_exporter": "python",
   "pygments_lexer": "ipython3",
   "version": "3.10.6"
  }
 },
 "nbformat": 4,
 "nbformat_minor": 5
}